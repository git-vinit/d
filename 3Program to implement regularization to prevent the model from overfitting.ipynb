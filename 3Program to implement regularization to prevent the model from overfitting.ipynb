{
 "cells": [
  {
   "cell_type": "markdown",
   "id": "61fa0deb",
   "metadata": {},
   "source": [
    "Program to implement regularization to prevent the model from overfittingProgram to implement regularization to prevent the model from overfitting"
   ]
  },
  {
   "cell_type": "code",
   "execution_count": null,
   "id": "77e34896",
   "metadata": {
    "vscode": {
     "languageId": "plaintext"
    }
   },
   "outputs": [],
   "source": [
    "#Import statements\n",
    "import numpy as np\n",
    "import pandas as pd\n",
    "import matplotlib.pyplot as plt\n",
    "from sklearn.model_selection import train_test_split\n",
    "from sklearn.preprocessing import StandardScaler\n",
    "import tensorflow as tf\n",
    "from tensorflow.keras.models import Sequential\n",
    "from tensorflow.keras.layers import Dense\n",
    "from tensorflow.keras import regularizers\n",
    "\n",
    "#Load the data\n",
    "(train_data, train_labels), (test_data, test_labels) = tf.keras.datasets.mnist.load_data()\n",
    "\n",
    "#Preprocess the data\n",
    "train_data = train_data.reshape((60000, 784))/255.0\n",
    "test_data = test_data.reshape((10000,784))/255.0\n",
    "train_labels = tf.keras.utils.to_categorical(train_labels)\n",
    "test_labels =tf.keras.utils.to_categorical(test_labels)\n",
    "\n",
    "#Define the model architecture\n",
    "model = tf.keras.models.Sequential([\n",
    "    tf.keras.layers.Dense(128, activation='relu', input_shape=(784,),kernel_regularizer=tf.keras.regularizers.l2(0.01)),\n",
    "    tf.keras.layers.Dense(64, activation='relu', kernel_regularizer=tf.keras.regularizers.l2(0.01)),\n",
    "    tf.keras.layers.Dense(10, activation='softmax')\n",
    "\n",
    "])\n",
    "\n",
    "#Compile the model\n",
    "model.compile(optimizer=tf.keras.optimizers.Adam(learning_rate=0.001),\n",
    "              loss='categorical_crossentropy',\n",
    "              metrics=['accuracy'])\n",
    "\n",
    "#Train the model\n",
    "history = model.fit(train_data, train_labels, epochs=50, batch_size=128, validation_data=(test_data,test_labels))\n",
    "\n",
    "#Plot training loss and validation loss\n",
    "plt.figure(figsize=(12,5))\n",
    "\n",
    "#Plot the training loss\n",
    "plt.subplot(1,2,1)\n",
    "plt.plot(history.history['loss'], label='Training Loss')\n",
    "plt.plot(history.history['val_loss'], label='Validation Loss')\n",
    "plt.title('Training and Validation Loss')\n",
    "plt.xlabel('Epochs')\n",
    "plt.ylabel('Loss')\n",
    "plt.legend()\n",
    "\n",
    "#Plot the training accuracy\n",
    "plt.subplot(1,2,2)\n",
    "plt.plot(history.history['accuracy'], label='Training Accuracy')\n",
    "plt.plot(history.history['val_accuracy'], label='Validation Accuracy')\n",
    "plt.title('Training and Validation Accuracy')\n",
    "plt.xlabel('Epochs')\n",
    "plt.ylabel('Accuracy')\n",
    "plt.legend()\n",
    "\n",
    "plt.tight_layout()\n",
    "plt.show()\n"
   ]
  }
 ],
 "metadata": {
  "language_info": {
   "name": "python"
  }
 },
 "nbformat": 4,
 "nbformat_minor": 5
}
