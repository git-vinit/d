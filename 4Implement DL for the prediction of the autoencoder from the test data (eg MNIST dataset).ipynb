{
 "cells": [
  {
   "cell_type": "markdown",
   "id": "58233b5b",
   "metadata": {},
   "source": [
    "Implement DL for the prediction of the autoencoder from the test data (eg MNIST dataset)"
   ]
  },
  {
   "cell_type": "code",
   "execution_count": null,
   "id": "51b2f62c",
   "metadata": {
    "vscode": {
     "languageId": "plaintext"
    }
   },
   "outputs": [],
   "source": [
    "#Import statements\n",
    "import tensorflow as tf\n",
    "from tensorflow import keras\n",
    "import numpy as np\n",
    "import matplotlib.pyplot as plt\n",
    "\n",
    "#Load the dataset\n",
    "(X_train, _), (X_test, _) = keras.datasets.mnist.load_data()\n",
    "\n",
    "#Normalise the pixel values to be between 0 and 1\n",
    "X_train = X_train.astype('float32') / 255.0\n",
    "X_test = X_test.astype('float32') / 255.0\n",
    "\n",
    "#Define the encoder architecture\n",
    "encoder = keras.models.Sequential([\n",
    "    keras.layers.Flatten(input_shape=[28, 28]),\n",
    "    keras.layers.Dense(128, activation=\"relu\"),\n",
    "    keras.layers.Dense(64, activation=\"relu\"),\n",
    "    keras.layers.Dense(32, activation=\"relu\"),\n",
    "])\n",
    "\n",
    "#Define the decoder architecture\n",
    "decoder = keras.models.Sequential([\n",
    "    keras.layers.Dense(64, activation=\"relu\", input_shape=[32]),\n",
    "    keras.layers.Dense(128, activation=\"relu\"),\n",
    "    keras.layers.Dense(28 * 28, activation=\"sigmoid\"),\n",
    "    keras.layers.Reshape([28, 28])\n",
    "])\n",
    "\n",
    "#Combine the encoder and decoder into an autoencoder model\n",
    "autoencoder = keras.models.Sequential([encoder, decoder])\n",
    "\n",
    "#Compile the autoencoder model\n",
    "autoencoder.compile(loss=\"binary_crossentropy\", optimizer=keras.optimizers.Adam(learning_rate = 0.001))\n",
    "\n",
    "#Train the autoencoder model\n",
    "history = autoencoder.fit(X_train, X_train, epochs=10, batch_size=128, validation_data=(X_test, X_test))\n",
    "\n",
    "#Use the trained autoencoder to predict the reconstructed images for the test data\n",
    "decoded_imgs = autoencoder.predict(X_test)\n",
    "\n",
    "#Plot some of the original test images and their reconstructed counterparts\n",
    "n = 10\n",
    "plt.figure(figsize=(20, 4))\n",
    "for i in range(n):\n",
    "    ax = plt.subplot(2, n, i + 1)\n",
    "    plt.imshow(X_test[i])\n",
    "    plt.gray()\n",
    "    ax.get_xaxis().set_visible(False)\n",
    "    ax.get_yaxis().set_visible(False)\n",
    "\n",
    "    ax = plt.subplot(2, n, i + 1 + n)\n",
    "    plt.imshow(decoded_imgs[i])\n",
    "    plt.gray()\n",
    "    ax.get_xaxis().set_visible(False)\n",
    "    ax.get_yaxis().set_visible(False)\n",
    "\n",
    "plt.show()"
   ]
  }
 ],
 "metadata": {
  "language_info": {
   "name": "python"
  }
 },
 "nbformat": 4,
 "nbformat_minor": 5
}
